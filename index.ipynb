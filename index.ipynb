{
 "cells": [
  {
   "cell_type": "code",
   "execution_count": 2,
   "metadata": {},
   "outputs": [],
   "source": [
    "import pandas as pd\n",
    "import seaborn as sns\n",
    "import matplotlib.pyplot as plt\n",
    "%matplotlib inline\n",
    "import os"
   ]
  },
  {
   "cell_type": "markdown",
   "metadata": {},
   "source": [
    "## Load in dataframes"
   ]
  },
  {
   "cell_type": "code",
   "execution_count": 8,
   "metadata": {},
   "outputs": [
    {
     "data": {
      "text/html": [
       "<div>\n",
       "<style scoped>\n",
       "    .dataframe tbody tr th:only-of-type {\n",
       "        vertical-align: middle;\n",
       "    }\n",
       "\n",
       "    .dataframe tbody tr th {\n",
       "        vertical-align: top;\n",
       "    }\n",
       "\n",
       "    .dataframe thead th {\n",
       "        text-align: right;\n",
       "    }\n",
       "</style>\n",
       "<table border=\"1\" class=\"dataframe\">\n",
       "  <thead>\n",
       "    <tr style=\"text-align: right;\">\n",
       "      <th></th>\n",
       "      <th>participant_id</th>\n",
       "      <th>Basic_Demos_Enroll_Year</th>\n",
       "      <th>Basic_Demos_Study_Site</th>\n",
       "      <th>PreInt_Demos_Fam_Child_Ethnicity</th>\n",
       "      <th>PreInt_Demos_Fam_Child_Race</th>\n",
       "      <th>MRI_Track_Scan_Location</th>\n",
       "      <th>Barratt_Barratt_P1_Edu</th>\n",
       "      <th>Barratt_Barratt_P1_Occ</th>\n",
       "      <th>Barratt_Barratt_P2_Edu</th>\n",
       "      <th>Barratt_Barratt_P2_Occ</th>\n",
       "    </tr>\n",
       "  </thead>\n",
       "  <tbody>\n",
       "    <tr>\n",
       "      <th>0</th>\n",
       "      <td>UmrK0vMLopoR</td>\n",
       "      <td>2016</td>\n",
       "      <td>1</td>\n",
       "      <td>0.0</td>\n",
       "      <td>0</td>\n",
       "      <td>1</td>\n",
       "      <td>21</td>\n",
       "      <td>45</td>\n",
       "      <td>21</td>\n",
       "      <td>45</td>\n",
       "    </tr>\n",
       "    <tr>\n",
       "      <th>1</th>\n",
       "      <td>CPaeQkhcjg7d</td>\n",
       "      <td>2019</td>\n",
       "      <td>3</td>\n",
       "      <td>1.0</td>\n",
       "      <td>2</td>\n",
       "      <td>3</td>\n",
       "      <td>15</td>\n",
       "      <td>15</td>\n",
       "      <td>0</td>\n",
       "      <td>0</td>\n",
       "    </tr>\n",
       "    <tr>\n",
       "      <th>2</th>\n",
       "      <td>Nb4EetVPm3gs</td>\n",
       "      <td>2016</td>\n",
       "      <td>1</td>\n",
       "      <td>1.0</td>\n",
       "      <td>8</td>\n",
       "      <td>1</td>\n",
       "      <td>18</td>\n",
       "      <td>40</td>\n",
       "      <td>0</td>\n",
       "      <td>0</td>\n",
       "    </tr>\n",
       "    <tr>\n",
       "      <th>3</th>\n",
       "      <td>p4vPhVu91o4b</td>\n",
       "      <td>2018</td>\n",
       "      <td>3</td>\n",
       "      <td>0.0</td>\n",
       "      <td>8</td>\n",
       "      <td>3</td>\n",
       "      <td>15</td>\n",
       "      <td>30</td>\n",
       "      <td>18</td>\n",
       "      <td>0</td>\n",
       "    </tr>\n",
       "    <tr>\n",
       "      <th>4</th>\n",
       "      <td>M09PXs7arQ5E</td>\n",
       "      <td>2019</td>\n",
       "      <td>3</td>\n",
       "      <td>0.0</td>\n",
       "      <td>1</td>\n",
       "      <td>3</td>\n",
       "      <td>15</td>\n",
       "      <td>20</td>\n",
       "      <td>0</td>\n",
       "      <td>0</td>\n",
       "    </tr>\n",
       "  </tbody>\n",
       "</table>\n",
       "</div>"
      ],
      "text/plain": [
       "  participant_id  Basic_Demos_Enroll_Year  Basic_Demos_Study_Site  \\\n",
       "0   UmrK0vMLopoR                     2016                       1   \n",
       "1   CPaeQkhcjg7d                     2019                       3   \n",
       "2   Nb4EetVPm3gs                     2016                       1   \n",
       "3   p4vPhVu91o4b                     2018                       3   \n",
       "4   M09PXs7arQ5E                     2019                       3   \n",
       "\n",
       "   PreInt_Demos_Fam_Child_Ethnicity  PreInt_Demos_Fam_Child_Race  \\\n",
       "0                               0.0                            0   \n",
       "1                               1.0                            2   \n",
       "2                               1.0                            8   \n",
       "3                               0.0                            8   \n",
       "4                               0.0                            1   \n",
       "\n",
       "   MRI_Track_Scan_Location  Barratt_Barratt_P1_Edu  Barratt_Barratt_P1_Occ  \\\n",
       "0                        1                      21                      45   \n",
       "1                        3                      15                      15   \n",
       "2                        1                      18                      40   \n",
       "3                        3                      15                      30   \n",
       "4                        3                      15                      20   \n",
       "\n",
       "   Barratt_Barratt_P2_Edu  Barratt_Barratt_P2_Occ  \n",
       "0                      21                      45  \n",
       "1                       0                       0  \n",
       "2                       0                       0  \n",
       "3                      18                       0  \n",
       "4                       0                       0  "
      ]
     },
     "execution_count": 8,
     "metadata": {},
     "output_type": "execute_result"
    }
   ],
   "source": [
    "# Categorical variable train dataframe\n",
    "file_path_trainC = r\"C:\\Users\\rosew\\Desktop\\DS\\WIDS Datathon 2025\\TRAIN\\TRAIN_CATEGORICAL_METADATA.xlsx\"\n",
    "train_cat = pd.read_excel(file_path_trainC)\n",
    "train_cat.head()"
   ]
  },
  {
   "cell_type": "code",
   "execution_count": 9,
   "metadata": {},
   "outputs": [
    {
     "data": {
      "text/plain": [
       "Index(['participant_id', 'Basic_Demos_Enroll_Year', 'Basic_Demos_Study_Site',\n",
       "       'PreInt_Demos_Fam_Child_Ethnicity', 'PreInt_Demos_Fam_Child_Race',\n",
       "       'MRI_Track_Scan_Location', 'Barratt_Barratt_P1_Edu',\n",
       "       'Barratt_Barratt_P1_Occ', 'Barratt_Barratt_P2_Edu',\n",
       "       'Barratt_Barratt_P2_Occ'],\n",
       "      dtype='object')"
      ]
     },
     "execution_count": 9,
     "metadata": {},
     "output_type": "execute_result"
    }
   ],
   "source": [
    "train_cat.columns"
   ]
  },
  {
   "cell_type": "code",
   "execution_count": 10,
   "metadata": {},
   "outputs": [
    {
     "data": {
      "text/html": [
       "<div>\n",
       "<style scoped>\n",
       "    .dataframe tbody tr th:only-of-type {\n",
       "        vertical-align: middle;\n",
       "    }\n",
       "\n",
       "    .dataframe tbody tr th {\n",
       "        vertical-align: top;\n",
       "    }\n",
       "\n",
       "    .dataframe thead th {\n",
       "        text-align: right;\n",
       "    }\n",
       "</style>\n",
       "<table border=\"1\" class=\"dataframe\">\n",
       "  <thead>\n",
       "    <tr style=\"text-align: right;\">\n",
       "      <th></th>\n",
       "      <th>participant_id</th>\n",
       "      <th>0throw_1thcolumn</th>\n",
       "      <th>0throw_2thcolumn</th>\n",
       "      <th>0throw_3thcolumn</th>\n",
       "      <th>0throw_4thcolumn</th>\n",
       "      <th>0throw_5thcolumn</th>\n",
       "      <th>0throw_6thcolumn</th>\n",
       "      <th>0throw_7thcolumn</th>\n",
       "      <th>0throw_8thcolumn</th>\n",
       "      <th>0throw_9thcolumn</th>\n",
       "      <th>...</th>\n",
       "      <th>195throw_196thcolumn</th>\n",
       "      <th>195throw_197thcolumn</th>\n",
       "      <th>195throw_198thcolumn</th>\n",
       "      <th>195throw_199thcolumn</th>\n",
       "      <th>196throw_197thcolumn</th>\n",
       "      <th>196throw_198thcolumn</th>\n",
       "      <th>196throw_199thcolumn</th>\n",
       "      <th>197throw_198thcolumn</th>\n",
       "      <th>197throw_199thcolumn</th>\n",
       "      <th>198throw_199thcolumn</th>\n",
       "    </tr>\n",
       "  </thead>\n",
       "  <tbody>\n",
       "    <tr>\n",
       "      <th>0</th>\n",
       "      <td>70z8Q2xdTXM3</td>\n",
       "      <td>0.093473</td>\n",
       "      <td>0.146902</td>\n",
       "      <td>0.067893</td>\n",
       "      <td>0.015141</td>\n",
       "      <td>0.070221</td>\n",
       "      <td>0.063997</td>\n",
       "      <td>0.055382</td>\n",
       "      <td>-0.035335</td>\n",
       "      <td>0.068583</td>\n",
       "      <td>...</td>\n",
       "      <td>0.003404</td>\n",
       "      <td>-0.010359</td>\n",
       "      <td>-0.050968</td>\n",
       "      <td>-0.014365</td>\n",
       "      <td>0.128066</td>\n",
       "      <td>0.112646</td>\n",
       "      <td>-0.058980</td>\n",
       "      <td>0.028228</td>\n",
       "      <td>0.133582</td>\n",
       "      <td>0.143372</td>\n",
       "    </tr>\n",
       "    <tr>\n",
       "      <th>1</th>\n",
       "      <td>WHWymJu6zNZi</td>\n",
       "      <td>0.029580</td>\n",
       "      <td>0.179323</td>\n",
       "      <td>0.112933</td>\n",
       "      <td>0.038291</td>\n",
       "      <td>0.104899</td>\n",
       "      <td>0.064250</td>\n",
       "      <td>0.008488</td>\n",
       "      <td>0.077505</td>\n",
       "      <td>-0.004750</td>\n",
       "      <td>...</td>\n",
       "      <td>-0.008409</td>\n",
       "      <td>-0.008479</td>\n",
       "      <td>0.020891</td>\n",
       "      <td>0.017754</td>\n",
       "      <td>0.094040</td>\n",
       "      <td>0.035141</td>\n",
       "      <td>0.032537</td>\n",
       "      <td>0.075007</td>\n",
       "      <td>0.115350</td>\n",
       "      <td>0.138200</td>\n",
       "    </tr>\n",
       "    <tr>\n",
       "      <th>2</th>\n",
       "      <td>4PAQp1M6EyAo</td>\n",
       "      <td>-0.051580</td>\n",
       "      <td>0.139734</td>\n",
       "      <td>0.068295</td>\n",
       "      <td>0.046991</td>\n",
       "      <td>0.111085</td>\n",
       "      <td>0.026978</td>\n",
       "      <td>0.151377</td>\n",
       "      <td>0.021198</td>\n",
       "      <td>0.083721</td>\n",
       "      <td>...</td>\n",
       "      <td>0.053245</td>\n",
       "      <td>-0.028003</td>\n",
       "      <td>0.028773</td>\n",
       "      <td>0.024556</td>\n",
       "      <td>0.166343</td>\n",
       "      <td>0.058925</td>\n",
       "      <td>0.035485</td>\n",
       "      <td>0.063661</td>\n",
       "      <td>0.042862</td>\n",
       "      <td>0.162162</td>\n",
       "    </tr>\n",
       "    <tr>\n",
       "      <th>3</th>\n",
       "      <td>obEacy4Of68I</td>\n",
       "      <td>0.016273</td>\n",
       "      <td>0.204702</td>\n",
       "      <td>0.115980</td>\n",
       "      <td>0.043103</td>\n",
       "      <td>0.056431</td>\n",
       "      <td>0.057615</td>\n",
       "      <td>0.055773</td>\n",
       "      <td>0.075030</td>\n",
       "      <td>0.001033</td>\n",
       "      <td>...</td>\n",
       "      <td>-0.023918</td>\n",
       "      <td>-0.005356</td>\n",
       "      <td>0.018607</td>\n",
       "      <td>0.016193</td>\n",
       "      <td>0.072955</td>\n",
       "      <td>0.130135</td>\n",
       "      <td>0.056120</td>\n",
       "      <td>0.084784</td>\n",
       "      <td>0.114148</td>\n",
       "      <td>0.190584</td>\n",
       "    </tr>\n",
       "    <tr>\n",
       "      <th>4</th>\n",
       "      <td>s7WzzDcmDOhF</td>\n",
       "      <td>0.065771</td>\n",
       "      <td>0.098714</td>\n",
       "      <td>0.097604</td>\n",
       "      <td>0.112988</td>\n",
       "      <td>0.071139</td>\n",
       "      <td>0.085607</td>\n",
       "      <td>0.019392</td>\n",
       "      <td>-0.036403</td>\n",
       "      <td>-0.020375</td>\n",
       "      <td>...</td>\n",
       "      <td>0.066439</td>\n",
       "      <td>-0.076680</td>\n",
       "      <td>-0.047530</td>\n",
       "      <td>-0.031443</td>\n",
       "      <td>0.221213</td>\n",
       "      <td>0.007343</td>\n",
       "      <td>0.005763</td>\n",
       "      <td>0.083820</td>\n",
       "      <td>0.079582</td>\n",
       "      <td>0.067269</td>\n",
       "    </tr>\n",
       "  </tbody>\n",
       "</table>\n",
       "<p>5 rows × 19901 columns</p>\n",
       "</div>"
      ],
      "text/plain": [
       "  participant_id  0throw_1thcolumn  0throw_2thcolumn  0throw_3thcolumn  \\\n",
       "0   70z8Q2xdTXM3          0.093473          0.146902          0.067893   \n",
       "1   WHWymJu6zNZi          0.029580          0.179323          0.112933   \n",
       "2   4PAQp1M6EyAo         -0.051580          0.139734          0.068295   \n",
       "3   obEacy4Of68I          0.016273          0.204702          0.115980   \n",
       "4   s7WzzDcmDOhF          0.065771          0.098714          0.097604   \n",
       "\n",
       "   0throw_4thcolumn  0throw_5thcolumn  0throw_6thcolumn  0throw_7thcolumn  \\\n",
       "0          0.015141          0.070221          0.063997          0.055382   \n",
       "1          0.038291          0.104899          0.064250          0.008488   \n",
       "2          0.046991          0.111085          0.026978          0.151377   \n",
       "3          0.043103          0.056431          0.057615          0.055773   \n",
       "4          0.112988          0.071139          0.085607          0.019392   \n",
       "\n",
       "   0throw_8thcolumn  0throw_9thcolumn  ...  195throw_196thcolumn  \\\n",
       "0         -0.035335          0.068583  ...              0.003404   \n",
       "1          0.077505         -0.004750  ...             -0.008409   \n",
       "2          0.021198          0.083721  ...              0.053245   \n",
       "3          0.075030          0.001033  ...             -0.023918   \n",
       "4         -0.036403         -0.020375  ...              0.066439   \n",
       "\n",
       "   195throw_197thcolumn  195throw_198thcolumn  195throw_199thcolumn  \\\n",
       "0             -0.010359             -0.050968             -0.014365   \n",
       "1             -0.008479              0.020891              0.017754   \n",
       "2             -0.028003              0.028773              0.024556   \n",
       "3             -0.005356              0.018607              0.016193   \n",
       "4             -0.076680             -0.047530             -0.031443   \n",
       "\n",
       "   196throw_197thcolumn  196throw_198thcolumn  196throw_199thcolumn  \\\n",
       "0              0.128066              0.112646             -0.058980   \n",
       "1              0.094040              0.035141              0.032537   \n",
       "2              0.166343              0.058925              0.035485   \n",
       "3              0.072955              0.130135              0.056120   \n",
       "4              0.221213              0.007343              0.005763   \n",
       "\n",
       "   197throw_198thcolumn  197throw_199thcolumn  198throw_199thcolumn  \n",
       "0              0.028228              0.133582              0.143372  \n",
       "1              0.075007              0.115350              0.138200  \n",
       "2              0.063661              0.042862              0.162162  \n",
       "3              0.084784              0.114148              0.190584  \n",
       "4              0.083820              0.079582              0.067269  \n",
       "\n",
       "[5 rows x 19901 columns]"
      ]
     },
     "execution_count": 10,
     "metadata": {},
     "output_type": "execute_result"
    }
   ],
   "source": [
    "# Functional Connectome Matrices\n",
    "file_path_trainFCM = r\"C:\\Users\\rosew\\Desktop\\DS\\WIDS Datathon 2025\\TRAIN\\TRAIN_FUNCTIONAL_CONNECTOME_MATRICES.csv\"\n",
    "train_FCM = pd.read_csv(file_path_trainFCM)\n",
    "train_FCM.head()"
   ]
  },
  {
   "cell_type": "code",
   "execution_count": 11,
   "metadata": {},
   "outputs": [
    {
     "data": {
      "text/plain": [
       "Index(['participant_id', '0throw_1thcolumn', '0throw_2thcolumn',\n",
       "       '0throw_3thcolumn', '0throw_4thcolumn', '0throw_5thcolumn',\n",
       "       '0throw_6thcolumn', '0throw_7thcolumn', '0throw_8thcolumn',\n",
       "       '0throw_9thcolumn',\n",
       "       ...\n",
       "       '195throw_196thcolumn', '195throw_197thcolumn', '195throw_198thcolumn',\n",
       "       '195throw_199thcolumn', '196throw_197thcolumn', '196throw_198thcolumn',\n",
       "       '196throw_199thcolumn', '197throw_198thcolumn', '197throw_199thcolumn',\n",
       "       '198throw_199thcolumn'],\n",
       "      dtype='object', length=19901)"
      ]
     },
     "execution_count": 11,
     "metadata": {},
     "output_type": "execute_result"
    }
   ],
   "source": [
    "train_FCM.columns"
   ]
  },
  {
   "cell_type": "code",
   "execution_count": 12,
   "metadata": {},
   "outputs": [
    {
     "data": {
      "text/html": [
       "<div>\n",
       "<style scoped>\n",
       "    .dataframe tbody tr th:only-of-type {\n",
       "        vertical-align: middle;\n",
       "    }\n",
       "\n",
       "    .dataframe tbody tr th {\n",
       "        vertical-align: top;\n",
       "    }\n",
       "\n",
       "    .dataframe thead th {\n",
       "        text-align: right;\n",
       "    }\n",
       "</style>\n",
       "<table border=\"1\" class=\"dataframe\">\n",
       "  <thead>\n",
       "    <tr style=\"text-align: right;\">\n",
       "      <th></th>\n",
       "      <th>participant_id</th>\n",
       "      <th>EHQ_EHQ_Total</th>\n",
       "      <th>ColorVision_CV_Score</th>\n",
       "      <th>APQ_P_APQ_P_CP</th>\n",
       "      <th>APQ_P_APQ_P_ID</th>\n",
       "      <th>APQ_P_APQ_P_INV</th>\n",
       "      <th>APQ_P_APQ_P_OPD</th>\n",
       "      <th>APQ_P_APQ_P_PM</th>\n",
       "      <th>APQ_P_APQ_P_PP</th>\n",
       "      <th>SDQ_SDQ_Conduct_Problems</th>\n",
       "      <th>SDQ_SDQ_Difficulties_Total</th>\n",
       "      <th>SDQ_SDQ_Emotional_Problems</th>\n",
       "      <th>SDQ_SDQ_Externalizing</th>\n",
       "      <th>SDQ_SDQ_Generating_Impact</th>\n",
       "      <th>SDQ_SDQ_Hyperactivity</th>\n",
       "      <th>SDQ_SDQ_Internalizing</th>\n",
       "      <th>SDQ_SDQ_Peer_Problems</th>\n",
       "      <th>SDQ_SDQ_Prosocial</th>\n",
       "      <th>MRI_Track_Age_at_Scan</th>\n",
       "    </tr>\n",
       "  </thead>\n",
       "  <tbody>\n",
       "    <tr>\n",
       "      <th>0</th>\n",
       "      <td>UmrK0vMLopoR</td>\n",
       "      <td>40.00</td>\n",
       "      <td>13</td>\n",
       "      <td>3</td>\n",
       "      <td>10</td>\n",
       "      <td>47</td>\n",
       "      <td>13</td>\n",
       "      <td>11</td>\n",
       "      <td>28</td>\n",
       "      <td>0</td>\n",
       "      <td>6</td>\n",
       "      <td>1</td>\n",
       "      <td>5</td>\n",
       "      <td>0</td>\n",
       "      <td>5</td>\n",
       "      <td>1</td>\n",
       "      <td>0</td>\n",
       "      <td>10</td>\n",
       "      <td>NaN</td>\n",
       "    </tr>\n",
       "    <tr>\n",
       "      <th>1</th>\n",
       "      <td>CPaeQkhcjg7d</td>\n",
       "      <td>-94.47</td>\n",
       "      <td>14</td>\n",
       "      <td>3</td>\n",
       "      <td>13</td>\n",
       "      <td>34</td>\n",
       "      <td>18</td>\n",
       "      <td>23</td>\n",
       "      <td>30</td>\n",
       "      <td>0</td>\n",
       "      <td>18</td>\n",
       "      <td>6</td>\n",
       "      <td>8</td>\n",
       "      <td>7</td>\n",
       "      <td>8</td>\n",
       "      <td>10</td>\n",
       "      <td>4</td>\n",
       "      <td>5</td>\n",
       "      <td>NaN</td>\n",
       "    </tr>\n",
       "    <tr>\n",
       "      <th>2</th>\n",
       "      <td>Nb4EetVPm3gs</td>\n",
       "      <td>-46.67</td>\n",
       "      <td>14</td>\n",
       "      <td>4</td>\n",
       "      <td>10</td>\n",
       "      <td>35</td>\n",
       "      <td>16</td>\n",
       "      <td>10</td>\n",
       "      <td>29</td>\n",
       "      <td>1</td>\n",
       "      <td>14</td>\n",
       "      <td>2</td>\n",
       "      <td>8</td>\n",
       "      <td>5</td>\n",
       "      <td>7</td>\n",
       "      <td>6</td>\n",
       "      <td>4</td>\n",
       "      <td>9</td>\n",
       "      <td>8.239904</td>\n",
       "    </tr>\n",
       "    <tr>\n",
       "      <th>3</th>\n",
       "      <td>p4vPhVu91o4b</td>\n",
       "      <td>-26.68</td>\n",
       "      <td>10</td>\n",
       "      <td>5</td>\n",
       "      <td>12</td>\n",
       "      <td>39</td>\n",
       "      <td>19</td>\n",
       "      <td>16</td>\n",
       "      <td>28</td>\n",
       "      <td>6</td>\n",
       "      <td>24</td>\n",
       "      <td>4</td>\n",
       "      <td>16</td>\n",
       "      <td>9</td>\n",
       "      <td>10</td>\n",
       "      <td>8</td>\n",
       "      <td>4</td>\n",
       "      <td>6</td>\n",
       "      <td>NaN</td>\n",
       "    </tr>\n",
       "    <tr>\n",
       "      <th>4</th>\n",
       "      <td>M09PXs7arQ5E</td>\n",
       "      <td>0.00</td>\n",
       "      <td>14</td>\n",
       "      <td>5</td>\n",
       "      <td>15</td>\n",
       "      <td>40</td>\n",
       "      <td>20</td>\n",
       "      <td>24</td>\n",
       "      <td>28</td>\n",
       "      <td>1</td>\n",
       "      <td>18</td>\n",
       "      <td>4</td>\n",
       "      <td>11</td>\n",
       "      <td>4</td>\n",
       "      <td>10</td>\n",
       "      <td>7</td>\n",
       "      <td>3</td>\n",
       "      <td>9</td>\n",
       "      <td>8.940679</td>\n",
       "    </tr>\n",
       "  </tbody>\n",
       "</table>\n",
       "</div>"
      ],
      "text/plain": [
       "  participant_id  EHQ_EHQ_Total  ColorVision_CV_Score  APQ_P_APQ_P_CP  \\\n",
       "0   UmrK0vMLopoR          40.00                    13               3   \n",
       "1   CPaeQkhcjg7d         -94.47                    14               3   \n",
       "2   Nb4EetVPm3gs         -46.67                    14               4   \n",
       "3   p4vPhVu91o4b         -26.68                    10               5   \n",
       "4   M09PXs7arQ5E           0.00                    14               5   \n",
       "\n",
       "   APQ_P_APQ_P_ID  APQ_P_APQ_P_INV  APQ_P_APQ_P_OPD  APQ_P_APQ_P_PM  \\\n",
       "0              10               47               13              11   \n",
       "1              13               34               18              23   \n",
       "2              10               35               16              10   \n",
       "3              12               39               19              16   \n",
       "4              15               40               20              24   \n",
       "\n",
       "   APQ_P_APQ_P_PP  SDQ_SDQ_Conduct_Problems  SDQ_SDQ_Difficulties_Total  \\\n",
       "0              28                         0                           6   \n",
       "1              30                         0                          18   \n",
       "2              29                         1                          14   \n",
       "3              28                         6                          24   \n",
       "4              28                         1                          18   \n",
       "\n",
       "   SDQ_SDQ_Emotional_Problems  SDQ_SDQ_Externalizing  \\\n",
       "0                           1                      5   \n",
       "1                           6                      8   \n",
       "2                           2                      8   \n",
       "3                           4                     16   \n",
       "4                           4                     11   \n",
       "\n",
       "   SDQ_SDQ_Generating_Impact  SDQ_SDQ_Hyperactivity  SDQ_SDQ_Internalizing  \\\n",
       "0                          0                      5                      1   \n",
       "1                          7                      8                     10   \n",
       "2                          5                      7                      6   \n",
       "3                          9                     10                      8   \n",
       "4                          4                     10                      7   \n",
       "\n",
       "   SDQ_SDQ_Peer_Problems  SDQ_SDQ_Prosocial  MRI_Track_Age_at_Scan  \n",
       "0                      0                 10                    NaN  \n",
       "1                      4                  5                    NaN  \n",
       "2                      4                  9               8.239904  \n",
       "3                      4                  6                    NaN  \n",
       "4                      3                  9               8.940679  "
      ]
     },
     "execution_count": 12,
     "metadata": {},
     "output_type": "execute_result"
    }
   ],
   "source": [
    "# Quantitative Variable train dataframe\n",
    "file_path_trainQ = r\"C:\\Users\\rosew\\Desktop\\DS\\WIDS Datathon 2025\\TRAIN\\TRAIN_QUANTITATIVE_METADATA.xlsx\"\n",
    "train_Quant = pd.read_excel(file_path_trainQ)\n",
    "train_Quant.head()"
   ]
  },
  {
   "cell_type": "code",
   "execution_count": 13,
   "metadata": {},
   "outputs": [
    {
     "data": {
      "text/plain": [
       "Index(['participant_id', 'EHQ_EHQ_Total', 'ColorVision_CV_Score',\n",
       "       'APQ_P_APQ_P_CP', 'APQ_P_APQ_P_ID', 'APQ_P_APQ_P_INV',\n",
       "       'APQ_P_APQ_P_OPD', 'APQ_P_APQ_P_PM', 'APQ_P_APQ_P_PP',\n",
       "       'SDQ_SDQ_Conduct_Problems', 'SDQ_SDQ_Difficulties_Total',\n",
       "       'SDQ_SDQ_Emotional_Problems', 'SDQ_SDQ_Externalizing',\n",
       "       'SDQ_SDQ_Generating_Impact', 'SDQ_SDQ_Hyperactivity',\n",
       "       'SDQ_SDQ_Internalizing', 'SDQ_SDQ_Peer_Problems', 'SDQ_SDQ_Prosocial',\n",
       "       'MRI_Track_Age_at_Scan'],\n",
       "      dtype='object')"
      ]
     },
     "execution_count": 13,
     "metadata": {},
     "output_type": "execute_result"
    }
   ],
   "source": [
    "train_Quant.columns"
   ]
  },
  {
   "cell_type": "code",
   "execution_count": 15,
   "metadata": {},
   "outputs": [
    {
     "data": {
      "text/html": [
       "<div>\n",
       "<style scoped>\n",
       "    .dataframe tbody tr th:only-of-type {\n",
       "        vertical-align: middle;\n",
       "    }\n",
       "\n",
       "    .dataframe tbody tr th {\n",
       "        vertical-align: top;\n",
       "    }\n",
       "\n",
       "    .dataframe thead th {\n",
       "        text-align: right;\n",
       "    }\n",
       "</style>\n",
       "<table border=\"1\" class=\"dataframe\">\n",
       "  <thead>\n",
       "    <tr style=\"text-align: right;\">\n",
       "      <th></th>\n",
       "      <th>participant_id</th>\n",
       "      <th>ADHD_Outcome</th>\n",
       "      <th>Sex_F</th>\n",
       "    </tr>\n",
       "  </thead>\n",
       "  <tbody>\n",
       "    <tr>\n",
       "      <th>0</th>\n",
       "      <td>UmrK0vMLopoR</td>\n",
       "      <td>1</td>\n",
       "      <td>1</td>\n",
       "    </tr>\n",
       "    <tr>\n",
       "      <th>1</th>\n",
       "      <td>CPaeQkhcjg7d</td>\n",
       "      <td>1</td>\n",
       "      <td>0</td>\n",
       "    </tr>\n",
       "    <tr>\n",
       "      <th>2</th>\n",
       "      <td>Nb4EetVPm3gs</td>\n",
       "      <td>1</td>\n",
       "      <td>0</td>\n",
       "    </tr>\n",
       "    <tr>\n",
       "      <th>3</th>\n",
       "      <td>p4vPhVu91o4b</td>\n",
       "      <td>1</td>\n",
       "      <td>1</td>\n",
       "    </tr>\n",
       "    <tr>\n",
       "      <th>4</th>\n",
       "      <td>M09PXs7arQ5E</td>\n",
       "      <td>1</td>\n",
       "      <td>1</td>\n",
       "    </tr>\n",
       "  </tbody>\n",
       "</table>\n",
       "</div>"
      ],
      "text/plain": [
       "  participant_id  ADHD_Outcome  Sex_F\n",
       "0   UmrK0vMLopoR             1      1\n",
       "1   CPaeQkhcjg7d             1      0\n",
       "2   Nb4EetVPm3gs             1      0\n",
       "3   p4vPhVu91o4b             1      1\n",
       "4   M09PXs7arQ5E             1      1"
      ]
     },
     "execution_count": 15,
     "metadata": {},
     "output_type": "execute_result"
    }
   ],
   "source": [
    "# ADHD and Sex solutions dataframe for model training\n",
    "file_path_trainS = r\"C:\\Users\\rosew\\Desktop\\DS\\WIDS Datathon 2025\\TRAIN\\TRAINING_SOLUTIONS.xlsx\"\n",
    "train_Solutions = pd.read_excel(file_path_trainS)\n",
    "train_Solutions.head()"
   ]
  },
  {
   "cell_type": "code",
   "execution_count": 16,
   "metadata": {},
   "outputs": [
    {
     "data": {
      "text/plain": [
       "Index(['participant_id', 'ADHD_Outcome', 'Sex_F'], dtype='object')"
      ]
     },
     "execution_count": 16,
     "metadata": {},
     "output_type": "execute_result"
    }
   ],
   "source": [
    "train_Solutions.columns"
   ]
  },
  {
   "cell_type": "markdown",
   "metadata": {},
   "source": [
    "## Exploratory Data Analysis"
   ]
  },
  {
   "cell_type": "markdown",
   "metadata": {},
   "source": [
    "Exploratory Data Analysis (EDA) is a way to understand your dataset by looking at its patterns, trends, and relationships. It helps identify missing data, outliers, and how variables interact.\n",
    "\n",
    "`.info()` and `.describe()` will be used to summarize each dataset"
   ]
  },
  {
   "cell_type": "code",
   "execution_count": 17,
   "metadata": {},
   "outputs": [
    {
     "name": "stdout",
     "output_type": "stream",
     "text": [
      "<class 'pandas.core.frame.DataFrame'>\n",
      "RangeIndex: 1213 entries, 0 to 1212\n",
      "Data columns (total 10 columns):\n",
      " #   Column                            Non-Null Count  Dtype  \n",
      "---  ------                            --------------  -----  \n",
      " 0   participant_id                    1213 non-null   object \n",
      " 1   Basic_Demos_Enroll_Year           1213 non-null   int64  \n",
      " 2   Basic_Demos_Study_Site            1213 non-null   int64  \n",
      " 3   PreInt_Demos_Fam_Child_Ethnicity  1202 non-null   float64\n",
      " 4   PreInt_Demos_Fam_Child_Race       1213 non-null   int64  \n",
      " 5   MRI_Track_Scan_Location           1213 non-null   int64  \n",
      " 6   Barratt_Barratt_P1_Edu            1213 non-null   int64  \n",
      " 7   Barratt_Barratt_P1_Occ            1213 non-null   int64  \n",
      " 8   Barratt_Barratt_P2_Edu            1213 non-null   int64  \n",
      " 9   Barratt_Barratt_P2_Occ            1213 non-null   int64  \n",
      "dtypes: float64(1), int64(8), object(1)\n",
      "memory usage: 94.9+ KB\n"
     ]
    }
   ],
   "source": [
    "train_cat.info()"
   ]
  },
  {
   "cell_type": "markdown",
   "metadata": {},
   "source": [
    "Understand the distribution of the categorical variables with `.value_counts()`"
   ]
  },
  {
   "cell_type": "code",
   "execution_count": 18,
   "metadata": {},
   "outputs": [
    {
     "data": {
      "text/plain": [
       "Barratt_Barratt_P2_Occ\n",
       "0     287\n",
       "45    239\n",
       "35    195\n",
       "30    149\n",
       "40    116\n",
       "15     86\n",
       "20     41\n",
       "5      38\n",
       "10     37\n",
       "25     25\n",
       "Name: count, dtype: int64"
      ]
     },
     "execution_count": 18,
     "metadata": {},
     "output_type": "execute_result"
    }
   ],
   "source": [
    "# Barratt_Barratt_P2_Occ - Barratt simplified Measure of Social Status - Parent 2 Occupation\n",
    "train_cat['Barratt_Barratt_P2_Occ'].value_counts()\n",
    "\n",
    "# Look back at the Data Dictionary to\n",
    "# See what categories these integers [0. 45, 35 ...] represent"
   ]
  },
  {
   "cell_type": "markdown",
   "metadata": {},
   "source": [
    "- `0` =Homemaker, stay at home parent.\n",
    "- `5` =Day laborer, janitor, house cleaner, farm worker, food counter sales, food preparation worker, busboy.\n",
    "- `10` =Garbage collector, short-order cook, cab driver, shoe sales, assembly line workers, masons, baggage porter.\n",
    "- `15` =Painter, skilled construction trade, sales clerk, truck driver, cook, sales counter or general office clerk.\n",
    "- `20` =Automobile mechanic, typist, locksmith, farmer, carpenter, receptionist, construction laborer, hairdresser.\n",
    "- `25` =Machinist, musician, bookkeeper, secretary, insurance sales, cabinet maker, personnel specialist, welder.\n",
    "- `30` =Supervisor, librarian, aircraft mechanic, artist and artisan, electrician, administrator, military enlisted personnel, buyer.\n",
    "- `35` =Nurse, skilled technician, medical technician, counselor, manager, police and fire personnel, financial manager, physical, occupational, speech therapist.\n",
    "- `40` =Mechanical, nuclear, and electrical engineer, educational administrator, veterinarian, military officer, elementary, high school and special education teacher.\n",
    "- `45` =Physician, attorney, professor, chemical and aerospace engineer, judge, CEO, senior manager, public official, psychologist, pharmacist, accountant.\""
   ]
  },
  {
   "cell_type": "markdown",
   "metadata": {},
   "source": [
    "Visualize distributions:"
   ]
  },
  {
   "cell_type": "code",
   "execution_count": 21,
   "metadata": {},
   "outputs": [
    {
     "name": "stderr",
     "output_type": "stream",
     "text": [
      "C:\\Users\\rosew\\AppData\\Local\\Temp\\ipykernel_6256\\2883982742.py:1: FutureWarning: \n",
      "\n",
      "Passing `palette` without assigning `hue` is deprecated and will be removed in v0.14.0. Assign the `x` variable to `hue` and set `legend=False` for the same effect.\n",
      "\n",
      "  sns.countplot(x = 'Barratt_Barratt_P2_Occ', data = train_cat[['Barratt_Barratt_P2_Occ']], palette= 'icefire')\n"
     ]
    },
    {
     "data": {
      "image/png": "[encoded data removed]",
      "text/plain": [
       "<Figure size 640x480 with 1 Axes>"
      ]
     },
     "metadata": {},
     "output_type": "display_data"
    }
   ],
   "source": [
    "sns.countplot(x = 'Barratt_Barratt_P2_Occ', data = train_cat[['Barratt_Barratt_P2_Occ']], palette= 'icefire')\n",
    "plt.title(f\"Distribution of Barratt_Barratt_P2_Occ\")\n",
    "plt.xticks(rotation = 45)\n",
    "plt.show()"
   ]
  },
  {
   "cell_type": "markdown",
   "metadata": {},
   "source": [
    "Understand the distribution of quantitative variables."
   ]
  },
  {
   "cell_type": "code",
   "execution_count": 22,
   "metadata": {},
   "outputs": [
    {
     "data": {
      "image/png": "[encoded data removed]",
      "text/plain": [
       "<Figure size 1200x1000 with 1 Axes>"
      ]
     },
     "metadata": {},
     "output_type": "display_data"
    }
   ],
   "source": [
    "# Distribution of MRI_Track_Age_at_Scan\n",
    "train_Quant['MRI_Track_Age_at_Scan'].hist(figsize=(12,10), bins = 20)\n",
    "plt.suptitle(\"MRI_Track_Age_at_Scan Distributions\")\n",
    "plt.xlabel(\"MRI_Track_Age_at_Scan\")\n",
    "plt.ylabel('Frequency Count')\n",
    "plt.show()"
   ]
  },
  {
   "cell_type": "markdown",
   "metadata": {},
   "source": [
    "The `train_Solutions` dataset contains labels for `ADHD` and `gender`. Let's examine the class distribution."
   ]
  },
  {
   "cell_type": "code",
   "execution_count": 23,
   "metadata": {},
   "outputs": [
    {
     "data": {
      "text/plain": [
       "ADHD_Outcome\n",
       "1    831\n",
       "0    382\n",
       "Name: count, dtype: int64"
      ]
     },
     "execution_count": 23,
     "metadata": {},
     "output_type": "execute_result"
    }
   ],
   "source": [
    "# ADHD Distribution\n",
    "train_Solutions['ADHD_Outcome'].value_counts()"
   ]
  },
  {
   "cell_type": "markdown",
   "metadata": {},
   "source": [
    "**Key insight**: ADHD_Outcome imbalance may introduce bias in modeling. Address this duing data preparation."
   ]
  },
  {
   "cell_type": "code",
   "execution_count": 25,
   "metadata": {},
   "outputs": [
    {
     "data": {
      "image/png": "[encoded data removed]",
      "text/plain": [
       "<Figure size 640x480 with 1 Axes>"
      ]
     },
     "metadata": {},
     "output_type": "display_data"
    }
   ],
   "source": [
    "train_Solutions['ADHD_Outcome'].value_counts().plot(kind = 'bar', color = 'green')\n",
    "plt.title('ADHD Outcome')\n",
    "plt.xlabel('Outcome (0 = No, 1 = Yes)')\n",
    "plt.ylabel('Count')\n",
    "plt.xticks(rotation = 0)\n",
    "plt.show()"
   ]
  },
  {
   "cell_type": "code",
   "execution_count": 26,
   "metadata": {},
   "outputs": [
    {
     "data": {
      "text/plain": [
       "Sex_F\n",
       "0    797\n",
       "1    416\n",
       "Name: count, dtype: int64"
      ]
     },
     "execution_count": 26,
     "metadata": {},
     "output_type": "execute_result"
    }
   ],
   "source": [
    "# Gender Distribution\n",
    "train_Solutions['Sex_F'].value_counts()"
   ]
  },
  {
   "cell_type": "markdown",
   "metadata": {},
   "source": [
    "**Key insight**: Gender imbalance may introduce bias in modeling. Address this duing data preparation."
   ]
  },
  {
   "cell_type": "code",
   "execution_count": 28,
   "metadata": {},
   "outputs": [
    {
     "data": {
      "image/png": "[encoded data removed]",
      "text/plain": [
       "<Figure size 640x480 with 1 Axes>"
      ]
     },
     "metadata": {},
     "output_type": "display_data"
    }
   ],
   "source": [
    "train_Solutions['Sex_F'].value_counts().plot(kind = 'bar', color = 'green')\n",
    "plt.title('Gender Distribution')\n",
    "plt.xlabel('Gender (0 = Male, 1 = Female)')\n",
    "plt.ylabel('Count')\n",
    "plt.xticks(rotation = 0)\n",
    "plt.show()"
   ]
  }
 ],
 "metadata": {
  "kernelspec": {
   "display_name": "myenv",
   "language": "python",
   "name": "python3"
  },
  "language_info": {
   "codemirror_mode": {
    "name": "ipython",
    "version": 3
   },
   "file_extension": ".py",
   "mimetype": "text/x-python",
   "name": "python",
   "nbconvert_exporter": "python",
   "pygments_lexer": "ipython3",
   "version": "3.11.10"
  }
 },
 "nbformat": 4,
 "nbformat_minor": 2
}
